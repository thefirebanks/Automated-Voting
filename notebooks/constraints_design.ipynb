{
 "cells": [
  {
   "cell_type": "code",
   "execution_count": 4,
   "metadata": {},
   "outputs": [],
   "source": [
    "import numpy as np\n",
    "from whalrus.rule.RuleCondorcet import RuleCondorcet"
   ]
  },
  {
   "cell_type": "markdown",
   "metadata": {},
   "source": [
    "## Fairness constraints"
   ]
  },
  {
   "cell_type": "markdown",
   "metadata": {},
   "source": [
    "### 1. Majority criteria"
   ]
  },
  {
   "cell_type": "code",
   "execution_count": 3,
   "metadata": {},
   "outputs": [],
   "source": [
    "def check_majority(profile_df, results):\n",
    "    \"\"\" Check if the voting rule outputs a candidate that is preferred (ranked first) by the majority of the population\n",
    "        We will look into the first column of the profile matrix where matrix[i][0] represents how many people\n",
    "        voted for candidate i as first in their ranking, and compare it with the winner\n",
    "\n",
    "        Returns:\n",
    "            1  if majority criterion was satisfied\n",
    "            -1 if it wasn't\n",
    "            0  if there isn't a clear majority winner \"\"\"\n",
    "\n",
    "    pop_number = sum(profile_df.iloc[0, 1:].astype(int))\n",
    "\n",
    "    first_candidates = profile_df.iloc[:, 1]\n",
    "\n",
    "    for i, candidate in enumerate(first_candidates):\n",
    "        if candidate >= 0.5 * pop_number:\n",
    "            if profile_df.iloc[i, 0] == next(iter(results[\"Winner(s)\"])):\n",
    "                return 1\n",
    "            else:\n",
    "                return -1\n",
    "    return 0"
   ]
  },
  {
   "cell_type": "markdown",
   "metadata": {},
   "source": [
    "### 2. Condorcet compliance"
   ]
  },
  {
   "cell_type": "code",
   "execution_count": 1,
   "metadata": {},
   "outputs": [],
   "source": [
    "def check_condorcet(profile, results):\n",
    "    \"\"\" Check if a profile contains a condorcet winner and if the voting rule gave it as a winner\n",
    "        Returns:\n",
    "            1  if the Condorcet winner was elected\n",
    "            -1 if there is a Condorcet winner but was not elected\n",
    "            0  if there isn't a Condorcet winner \"\"\"\n",
    "\n",
    "    condorcet = RuleCondorcet(profile)\n",
    "\n",
    "    if len(condorcet.cowinners_) == 1 and len(results[\"Winner(s)\"]) == 1:\n",
    "        if next(iter(results[\"Winner(s)\"])) == next(iter(condorcet.cowinners_)):\n",
    "            return 1\n",
    "        else:\n",
    "            return -1\n",
    "    return 0"
   ]
  },
  {
   "cell_type": "markdown",
   "metadata": {},
   "source": [
    "### 3. Monotonicity"
   ]
  },
  {
   "cell_type": "markdown",
   "metadata": {},
   "source": [
    "### 4. Independence of Irrelevant Alternatives (IIA)"
   ]
  },
  {
   "cell_type": "code",
   "execution_count": null,
   "metadata": {},
   "outputs": [],
   "source": []
  }
 ],
 "metadata": {
  "kernelspec": {
   "display_name": "Python 3",
   "language": "python",
   "name": "python3"
  },
  "language_info": {
   "codemirror_mode": {
    "name": "ipython",
    "version": 3
   },
   "file_extension": ".py",
   "mimetype": "text/x-python",
   "name": "python",
   "nbconvert_exporter": "python",
   "pygments_lexer": "ipython3",
   "version": "3.6.8"
  }
 },
 "nbformat": 4,
 "nbformat_minor": 4
}
