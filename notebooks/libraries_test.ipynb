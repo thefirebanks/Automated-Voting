{
 "cells": [
  {
   "cell_type": "markdown",
   "metadata": {},
   "source": [
    "### SVVAMP"
   ]
  },
  {
   "cell_type": "code",
   "execution_count": 6,
   "metadata": {},
   "outputs": [],
   "source": [
    "import svvamp as sv"
   ]
  },
  {
   "cell_type": "code",
   "execution_count": 108,
   "metadata": {},
   "outputs": [],
   "source": [
    "pop = sv.PopulationSpheroid(V=5, C=3)"
   ]
  },
  {
   "cell_type": "code",
   "execution_count": 109,
   "metadata": {},
   "outputs": [],
   "source": [
    "pop.labels_candidates = [\"Alice\", \"Bob\", \"Chad\"]"
   ]
  },
  {
   "cell_type": "code",
   "execution_count": 110,
   "metadata": {},
   "outputs": [
    {
     "data": {
      "text/plain": [
       "(5, 3, ['Alice', 'Bob', 'Chad'])"
      ]
     },
     "execution_count": 110,
     "metadata": {},
     "output_type": "execute_result"
    }
   ],
   "source": [
    "pop.V, pop.C, pop.labels_candidates"
   ]
  },
  {
   "cell_type": "code",
   "execution_count": 111,
   "metadata": {},
   "outputs": [
    {
     "data": {
      "text/plain": [
       "array([[2, 0, 1],\n",
       "       [2, 1, 0],\n",
       "       [1, 0, 2],\n",
       "       [1, 0, 2],\n",
       "       [0, 1, 2]])"
      ]
     },
     "execution_count": 111,
     "metadata": {},
     "output_type": "execute_result"
    }
   ],
   "source": [
    "pop.preferences_borda_rk"
   ]
  },
  {
   "cell_type": "code",
   "execution_count": 12,
   "metadata": {},
   "outputs": [],
   "source": [
    "pop.ensure_voters_sorted_by_rk()"
   ]
  },
  {
   "cell_type": "code",
   "execution_count": 13,
   "metadata": {},
   "outputs": [
    {
     "data": {
      "text/plain": [
       "array([[0, 3, 2, 1],\n",
       "       [1, 0, 2, 3],\n",
       "       [1, 2, 0, 3],\n",
       "       [1, 3, 2, 0],\n",
       "       [2, 0, 1, 3],\n",
       "       [2, 1, 0, 3],\n",
       "       [2, 3, 1, 0],\n",
       "       [3, 0, 1, 2],\n",
       "       [3, 2, 0, 1],\n",
       "       [3, 2, 1, 0]])"
      ]
     },
     "execution_count": 13,
     "metadata": {},
     "output_type": "execute_result"
    }
   ],
   "source": [
    "pop.preferences_rk"
   ]
  },
  {
   "cell_type": "code",
   "execution_count": 50,
   "metadata": {},
   "outputs": [
    {
     "data": {
      "text/plain": [
       "array([-0.97184396,  0.2537266 , -0.20009453,  4.45732665])"
      ]
     },
     "execution_count": 50,
     "metadata": {},
     "output_type": "execute_result"
    }
   ],
   "source": [
    "pop.total_utility_c"
   ]
  },
  {
   "cell_type": "code",
   "execution_count": 51,
   "metadata": {},
   "outputs": [
    {
     "data": {
      "text/plain": [
       "array([3, 6, 4, 7])"
      ]
     },
     "execution_count": 51,
     "metadata": {},
     "output_type": "execute_result"
    }
   ],
   "source": [
    "pop.plurality_scores_rk"
   ]
  },
  {
   "cell_type": "code",
   "execution_count": 52,
   "metadata": {},
   "outputs": [
    {
     "data": {
      "text/plain": [
       "array([25., 30., 27., 38.])"
      ]
     },
     "execution_count": 52,
     "metadata": {},
     "output_type": "execute_result"
    }
   ],
   "source": [
    "pop.borda_score_c_ut"
   ]
  },
  {
   "cell_type": "code",
   "execution_count": 54,
   "metadata": {},
   "outputs": [],
   "source": [
    "election = sv.IRV(pop)"
   ]
  },
  {
   "cell_type": "code",
   "execution_count": 55,
   "metadata": {},
   "outputs": [
    {
     "data": {
      "text/plain": [
       "False"
      ]
     },
     "execution_count": 55,
     "metadata": {},
     "output_type": "execute_result"
    }
   ],
   "source": [
    "election.meets_Condorcet_c_rk"
   ]
  },
  {
   "cell_type": "code",
   "execution_count": 58,
   "metadata": {},
   "outputs": [
    {
     "data": {
      "text/plain": [
       "False"
      ]
     },
     "execution_count": 58,
     "metadata": {},
     "output_type": "execute_result"
    }
   ],
   "source": [
    "election.meets_IIA"
   ]
  },
  {
   "cell_type": "markdown",
   "metadata": {},
   "source": [
    "### WHALRUS"
   ]
  },
  {
   "cell_type": "code",
   "execution_count": 4,
   "metadata": {},
   "outputs": [],
   "source": [
    "from whalrus import *"
   ]
  },
  {
   "cell_type": "code",
   "execution_count": 112,
   "metadata": {},
   "outputs": [],
   "source": [
    "profile = Profile(pop.preferences_rk.tolist())"
   ]
  },
  {
   "cell_type": "code",
   "execution_count": 113,
   "metadata": {},
   "outputs": [
    {
     "data": {
      "text/plain": [
       "Profile(ballots=[BallotOrder([0, 2, 1], candidates={0, 1, 2}), BallotOrder([0, 1, 2], candidates={0, 1, 2}), BallotOrder([2, 0, 1], candidates={0, 1, 2}), BallotOrder([2, 0, 1], candidates={0, 1, 2}), BallotOrder([2, 1, 0], candidates={0, 1, 2})], weights=[1, 1, 1, 1, 1], voters=[None, None, None, None, None])"
      ]
     },
     "execution_count": 113,
     "metadata": {},
     "output_type": "execute_result"
    }
   ],
   "source": [
    "profile"
   ]
  },
  {
   "cell_type": "code",
   "execution_count": 26,
   "metadata": {},
   "outputs": [
    {
     "data": {
      "text/plain": [
       "array([[0, 3, 2, 1],\n",
       "       [1, 0, 2, 3],\n",
       "       [1, 2, 0, 3],\n",
       "       [1, 3, 2, 0],\n",
       "       [2, 0, 1, 3],\n",
       "       [2, 1, 0, 3],\n",
       "       [2, 3, 1, 0],\n",
       "       [3, 0, 1, 2],\n",
       "       [3, 2, 0, 1],\n",
       "       [3, 2, 1, 0]])"
      ]
     },
     "execution_count": 26,
     "metadata": {},
     "output_type": "execute_result"
    }
   ],
   "source": [
    "pop.preferences_rk"
   ]
  },
  {
   "cell_type": "code",
   "execution_count": 279,
   "metadata": {},
   "outputs": [
    {
     "data": {
      "text/plain": [
       "{0: 'Alice', 1: 'Bob', 2: 'Chad'}"
      ]
     },
     "execution_count": 279,
     "metadata": {},
     "output_type": "execute_result"
    }
   ],
   "source": [
    "candidate_map = dict(zip(range(len(pop.labels_candidates)), pop.labels_candidates))\n",
    "candidate_map"
   ]
  },
  {
   "cell_type": "code",
   "execution_count": 115,
   "metadata": {},
   "outputs": [],
   "source": [
    "test_ballot = list(map(candidate_map.get, pop.preferences_rk[0], pop.preferences_rk[0]))"
   ]
  },
  {
   "cell_type": "code",
   "execution_count": 331,
   "metadata": {},
   "outputs": [],
   "source": [
    "ordered_prof = []\n",
    "\n",
    "for ballot in pop.preferences_rk:\n",
    "    ordered_ballot = {}\n",
    "    for candidate, rank in zip(pop.labels_candidates, ballot):\n",
    "        ordered_ballot[candidate] = rank\n",
    "        \n",
    "    ordered_prof.append(ordered_ballot)"
   ]
  },
  {
   "cell_type": "code",
   "execution_count": 332,
   "metadata": {},
   "outputs": [
    {
     "data": {
      "text/plain": [
       "[{'Alice': 0, 'Bob': 2, 'Chad': 1},\n",
       " {'Alice': 0, 'Bob': 1, 'Chad': 2},\n",
       " {'Alice': 2, 'Bob': 0, 'Chad': 1},\n",
       " {'Alice': 2, 'Bob': 0, 'Chad': 1},\n",
       " {'Alice': 2, 'Bob': 1, 'Chad': 0}]"
      ]
     },
     "execution_count": 332,
     "metadata": {},
     "output_type": "execute_result"
    }
   ],
   "source": [
    "ordered_prof"
   ]
  },
  {
   "cell_type": "code",
   "execution_count": 116,
   "metadata": {},
   "outputs": [],
   "source": [
    "test_pop = [list(map(candidate_map.get, pop.preferences_rk[i], pop.preferences_rk[i])) for i in range(len(pop.preferences_rk))]"
   ]
  },
  {
   "cell_type": "code",
   "execution_count": 117,
   "metadata": {},
   "outputs": [
    {
     "data": {
      "text/plain": [
       "[['Alice', 'Chad', 'Bob'],\n",
       " ['Alice', 'Bob', 'Chad'],\n",
       " ['Chad', 'Alice', 'Bob'],\n",
       " ['Chad', 'Alice', 'Bob'],\n",
       " ['Chad', 'Bob', 'Alice']]"
      ]
     },
     "execution_count": 117,
     "metadata": {},
     "output_type": "execute_result"
    }
   ],
   "source": [
    "test_pop"
   ]
  },
  {
   "cell_type": "code",
   "execution_count": 121,
   "metadata": {},
   "outputs": [],
   "source": [
    "test_pop1 = ['Alice > Chad > Bob',\n",
    " 'Alice > Bob > Chad',\n",
    " 'Chad > Alice > Bob',\n",
    " 'Chad > Alice > Bob',\n",
    " 'Chad > Bob > Alice']"
   ]
  },
  {
   "cell_type": "code",
   "execution_count": 118,
   "metadata": {},
   "outputs": [],
   "source": [
    "profile_1 = Profile(test_pop)"
   ]
  },
  {
   "cell_type": "code",
   "execution_count": 228,
   "metadata": {},
   "outputs": [
    {
     "name": "stdout",
     "output_type": "stream",
     "text": [
      "Alice > Chad > Bob\n",
      "Alice > Bob > Chad\n",
      "Chad > Alice > Bob\n",
      "Chad > Alice > Bob\n",
      "Chad > Bob > Alice\n"
     ]
    }
   ],
   "source": [
    "print(profile_1)"
   ]
  },
  {
   "cell_type": "code",
   "execution_count": 119,
   "metadata": {},
   "outputs": [
    {
     "data": {
      "text/plain": [
       "Profile(ballots=[BallotOrder(['Alice', 'Chad', 'Bob'], candidates={'Alice', 'Bob', 'Chad'}), BallotOrder(['Alice', 'Bob', 'Chad'], candidates={'Alice', 'Bob', 'Chad'}), BallotOrder(['Chad', 'Alice', 'Bob'], candidates={'Alice', 'Bob', 'Chad'}), BallotOrder(['Chad', 'Alice', 'Bob'], candidates={'Alice', 'Bob', 'Chad'}), BallotOrder(['Chad', 'Bob', 'Alice'], candidates={'Alice', 'Bob', 'Chad'})], weights=[1, 1, 1, 1, 1], voters=[None, None, None, None, None])"
      ]
     },
     "execution_count": 119,
     "metadata": {},
     "output_type": "execute_result"
    }
   ],
   "source": [
    "profile_1"
   ]
  },
  {
   "cell_type": "code",
   "execution_count": 122,
   "metadata": {},
   "outputs": [],
   "source": [
    "profile_2 = Profile(test_pop1)"
   ]
  },
  {
   "cell_type": "code",
   "execution_count": 123,
   "metadata": {},
   "outputs": [
    {
     "data": {
      "text/plain": [
       "Profile(ballots=[BallotOrder(['Alice', 'Chad', 'Bob'], candidates={'Alice', 'Bob', 'Chad'}), BallotOrder(['Alice', 'Bob', 'Chad'], candidates={'Alice', 'Bob', 'Chad'}), BallotOrder(['Chad', 'Alice', 'Bob'], candidates={'Alice', 'Bob', 'Chad'}), BallotOrder(['Chad', 'Alice', 'Bob'], candidates={'Alice', 'Bob', 'Chad'}), BallotOrder(['Chad', 'Bob', 'Alice'], candidates={'Alice', 'Bob', 'Chad'})], weights=[1, 1, 1, 1, 1], voters=[None, None, None, None, None])"
      ]
     },
     "execution_count": 123,
     "metadata": {},
     "output_type": "execute_result"
    }
   ],
   "source": [
    "profile_2"
   ]
  },
  {
   "cell_type": "code",
   "execution_count": 124,
   "metadata": {},
   "outputs": [],
   "source": [
    "borda = RuleBorda(profile_2)"
   ]
  },
  {
   "cell_type": "code",
   "execution_count": 125,
   "metadata": {},
   "outputs": [
    {
     "data": {
      "text/plain": [
       "{'Alice': 6, 'Bob': 2, 'Chad': 7}"
      ]
     },
     "execution_count": 125,
     "metadata": {},
     "output_type": "execute_result"
    }
   ],
   "source": [
    "borda.gross_scores_"
   ]
  },
  {
   "cell_type": "code",
   "execution_count": 126,
   "metadata": {},
   "outputs": [
    {
     "data": {
      "text/plain": [
       "{'Alice': 5, 'Bob': 5, 'Chad': 5}"
      ]
     },
     "execution_count": 126,
     "metadata": {},
     "output_type": "execute_result"
    }
   ],
   "source": [
    "borda.weights_"
   ]
  },
  {
   "cell_type": "code",
   "execution_count": 145,
   "metadata": {},
   "outputs": [
    {
     "data": {
      "text/plain": [
       "[{'Bob'}, {'Chad'}, {'Alice'}]"
      ]
     },
     "execution_count": 145,
     "metadata": {},
     "output_type": "execute_result"
    }
   ],
   "source": [
    "profile_2.ballots[0].as_weak_order[::-1]"
   ]
  },
  {
   "cell_type": "code",
   "execution_count": 180,
   "metadata": {},
   "outputs": [],
   "source": [
    "positional_scorer = ScorerPositional(profile_2.ballots[0], candidates = profile_2.ballots[0].candidates, points_scheme = [10, 5, 3, 0])"
   ]
  },
  {
   "cell_type": "code",
   "execution_count": 181,
   "metadata": {},
   "outputs": [],
   "source": [
    "borda_scorer = ScorerBorda(profile_2.ballots[0], candidates = profile_2.ballots[0].candidates)"
   ]
  },
  {
   "cell_type": "code",
   "execution_count": 182,
   "metadata": {},
   "outputs": [
    {
     "data": {
      "text/plain": [
       "{'Alice', 'Bob', 'Chad'}"
      ]
     },
     "execution_count": 182,
     "metadata": {},
     "output_type": "execute_result"
    }
   ],
   "source": [
    "borda_scorer.candidates_"
   ]
  },
  {
   "cell_type": "code",
   "execution_count": 183,
   "metadata": {},
   "outputs": [
    {
     "data": {
      "text/plain": [
       "{'Alice': 2, 'Bob': 0, 'Chad': 1}"
      ]
     },
     "execution_count": 183,
     "metadata": {},
     "output_type": "execute_result"
    }
   ],
   "source": [
    "borda_scorer.scores_"
   ]
  },
  {
   "cell_type": "code",
   "execution_count": 184,
   "metadata": {},
   "outputs": [
    {
     "data": {
      "text/plain": [
       "{'Alice': 10, 'Bob': 3, 'Chad': 5}"
      ]
     },
     "execution_count": 184,
     "metadata": {},
     "output_type": "execute_result"
    }
   ],
   "source": [
    "positional_scorer.scores_"
   ]
  },
  {
   "cell_type": "code",
   "execution_count": 189,
   "metadata": {},
   "outputs": [],
   "source": [
    "pos_rule = RuleScorePositional(profile_2, points_scheme = [10, 5, 3])"
   ]
  },
  {
   "cell_type": "code",
   "execution_count": 201,
   "metadata": {},
   "outputs": [
    {
     "data": {
      "text/plain": [
       "{'Alice': 33, 'Bob': 19, 'Chad': 38}"
      ]
     },
     "execution_count": 201,
     "metadata": {},
     "output_type": "execute_result"
    }
   ],
   "source": [
    "pos_rule.gross_scores_"
   ]
  },
  {
   "cell_type": "code",
   "execution_count": 203,
   "metadata": {},
   "outputs": [
    {
     "data": {
      "text/plain": [
       "{'Alice': Fraction(33, 5), 'Bob': Fraction(19, 5), 'Chad': Fraction(38, 5)}"
      ]
     },
     "execution_count": 203,
     "metadata": {},
     "output_type": "execute_result"
    }
   ],
   "source": [
    "pos_rule.scores_"
   ]
  },
  {
   "cell_type": "code",
   "execution_count": 204,
   "metadata": {},
   "outputs": [
    {
     "data": {
      "text/plain": [
       "{'Alice': 6.6, 'Bob': 3.8, 'Chad': 7.6}"
      ]
     },
     "execution_count": 204,
     "metadata": {},
     "output_type": "execute_result"
    }
   ],
   "source": [
    "pos_rule.scores_as_floats_"
   ]
  },
  {
   "cell_type": "markdown",
   "metadata": {},
   "source": [
    "### Merging everything"
   ]
  },
  {
   "cell_type": "code",
   "execution_count": 262,
   "metadata": {},
   "outputs": [],
   "source": [
    "import pandas as pd\n",
    "import numpy as np"
   ]
  },
  {
   "cell_type": "code",
   "execution_count": 369,
   "metadata": {},
   "outputs": [],
   "source": [
    "def label_profile(profile, candidates):\n",
    "    # Convert profile to a list of {candidate: rank} per voter\n",
    "    ordered_prof = []\n",
    "\n",
    "    for ballot in profile:\n",
    "        ordered_ballot = {}\n",
    "        for candidate, rank in zip(candidates, ballot):\n",
    "            ordered_ballot[candidate] = rank\n",
    "\n",
    "        ordered_prof.append(ordered_ballot)\n",
    "    \n",
    "    sorted_dicts = [dict(sorted(profile.items(), key=lambda kv: kv[1])) for profile in ordered_prof]\n",
    "    sorted_dict_keys = [list(d.keys()) for d in sorted_dicts]\n",
    "    \n",
    "    return sorted_dicts, sorted_dict_keys\n",
    "    \n",
    "def digest_profile(profile, candidates):\n",
    "    \n",
    "    # Matrix representation of profile, matrix[c][r] represent the frequency of candidate c in rank r\n",
    "    matrix_rank = [[0]*len(profile[0]) for _ in profile[0]]\n",
    "    \n",
    "    # Fill out matrix rank:\n",
    "    for ballot in profile:\n",
    "        for j, rank in enumerate(ballot):\n",
    "            matrix_rank[j][rank] += 1\n",
    "    \n",
    "    return np.array(matrix_rank)\n",
    "\n",
    "def show_profile(matrix_rank, candidates):\n",
    "    data_dict = {}\n",
    "    \n",
    "    # Create dictionary for dataframe\n",
    "    data_dict[\"Candidates\"] = candidates\n",
    "    for i in range(len(matrix_rank)):\n",
    "        data_dict[f\"{i}th rank\"] = matrix_rank[:, i]\n",
    "        \n",
    "    df = pd.DataFrame(data_dict)\n",
    "    print(df)\n",
    "    \n",
    "    return df"
   ]
  },
  {
   "cell_type": "code",
   "execution_count": 438,
   "metadata": {},
   "outputs": [
    {
     "name": "stdout",
     "output_type": "stream",
     "text": [
      "  Candidates  0th rank  1th rank  2th rank\n",
      "0      Alice         2         0         3\n",
      "1        Bob         2         2         1\n",
      "2       Chad         1         3         1\n"
     ]
    }
   ],
   "source": [
    "profile_dicts, sorted_ranks = label_profile(pop.preferences_rk, pop.labels_candidates)\n",
    "matrix_rank = digest_profile(pop.preferences_rk, pop.labels_candidates)\n",
    "df = show_profile(matrix_rank, pop.labels_candidates)"
   ]
  },
  {
   "cell_type": "code",
   "execution_count": 439,
   "metadata": {},
   "outputs": [
    {
     "data": {
      "text/plain": [
       "([{'Alice': 0, 'Chad': 1, 'Bob': 2},\n",
       "  {'Alice': 0, 'Bob': 1, 'Chad': 2},\n",
       "  {'Bob': 0, 'Chad': 1, 'Alice': 2},\n",
       "  {'Bob': 0, 'Chad': 1, 'Alice': 2},\n",
       "  {'Chad': 0, 'Bob': 1, 'Alice': 2}],\n",
       " [['Alice', 'Chad', 'Bob'],\n",
       "  ['Alice', 'Bob', 'Chad'],\n",
       "  ['Bob', 'Chad', 'Alice'],\n",
       "  ['Bob', 'Chad', 'Alice'],\n",
       "  ['Chad', 'Bob', 'Alice']])"
      ]
     },
     "execution_count": 439,
     "metadata": {},
     "output_type": "execute_result"
    }
   ],
   "source": [
    "profile_dicts, sorted_ranks"
   ]
  },
  {
   "cell_type": "code",
   "execution_count": 440,
   "metadata": {},
   "outputs": [
    {
     "data": {
      "text/plain": [
       "Profile(ballots=[BallotOrder(['Alice', 'Chad', 'Bob'], candidates={'Alice', 'Bob', 'Chad'}), BallotOrder(['Alice', 'Bob', 'Chad'], candidates={'Alice', 'Bob', 'Chad'}), BallotOrder(['Bob', 'Chad', 'Alice'], candidates={'Alice', 'Bob', 'Chad'}), BallotOrder(['Bob', 'Chad', 'Alice'], candidates={'Alice', 'Bob', 'Chad'}), BallotOrder(['Chad', 'Bob', 'Alice'], candidates={'Alice', 'Bob', 'Chad'})], weights=[1, 1, 1, 1, 1], voters=[None, None, None, None, None])"
      ]
     },
     "execution_count": 440,
     "metadata": {},
     "output_type": "execute_result"
    }
   ],
   "source": [
    "Profile(sorted_ranks)"
   ]
  },
  {
   "cell_type": "code",
   "execution_count": 430,
   "metadata": {},
   "outputs": [],
   "source": [
    "def create_profile(n_voters, candidates, pop_type=\"spheroid\"):\n",
    "    \n",
    "    # Create a population object\n",
    "    pop = sv.PopulationSpheroid(V=n_voters, C=len(candidates))\n",
    "    pop.labels_candidates = candidates\n",
    "        \n",
    "    # Show the ranks\n",
    "    matrix_rank = digest_profile(pop.preferences_rk, pop.labels_candidates)\n",
    "    df_rank = show_profile(matrix_rank, pop.labels_candidates)\n",
    "    \n",
    "    # Create a labeled version of the ranking from the population\n",
    "    profile_dicts, labeled_ranks = label_profile(pop.preferences_rk, pop.labels_candidates)\n",
    "   \n",
    "    # Create a profile object - automatically creates ordered ballots\n",
    "    return Profile(labeled_ranks)\n",
    "    \n",
    "def election(profile, weights=None):\n",
    "    \n",
    "    # Initialize rule\n",
    "    if not weights:\n",
    "        raise Exception(\"Must insert weights!\")\n",
    "    else:\n",
    "        rule = RuleScorePositional(profile, points_scheme=weights)\n",
    "        \n",
    "        print(\"Candidates:\", rule.candidates_)\n",
    "        print(\"Gross scores:\", rule.gross_scores_)\n",
    "        print(\"Average scores:\", rule.scores_)\n",
    "        print(\"Scores as floats:\", rule.scores_as_floats_)\n",
    "        print(\"Winner(s):\", rule.cowinners_)\n",
    "        \n",
    "        return rule.cowinners_\n",
    "    "
   ]
  },
  {
   "cell_type": "code",
   "execution_count": 445,
   "metadata": {},
   "outputs": [
    {
     "name": "stdout",
     "output_type": "stream",
     "text": [
      "  Candidates  0th rank  1th rank  2th rank  3th rank\n",
      "0     Bernie      1678      1736      1676      1731\n",
      "1     Warren      1788      1668      1748      1617\n",
      "2       Yang      1742      1661      1681      1737\n",
      "3      Biden      1613      1756      1716      1736\n"
     ]
    }
   ],
   "source": [
    "profile = create_profile(6821, [\"Bernie\", \"Warren\", \"Yang\", \"Biden\"])"
   ]
  },
  {
   "cell_type": "code",
   "execution_count": 446,
   "metadata": {},
   "outputs": [
    {
     "name": "stdout",
     "output_type": "stream",
     "text": [
      "Candidates: {'Bernie', 'Biden', 'Warren', 'Yang'}\n",
      "Gross scores: {'Bernie': Fraction(148332, 5), 'Biden': Fraction(296549, 10), 'Warren': Fraction(29693, 1), 'Yang': Fraction(296711, 10)}\n",
      "Average scores: {'Bernie': Fraction(148332, 34105), 'Biden': Fraction(296549, 68210), 'Warren': Fraction(29693, 6821), 'Yang': Fraction(296711, 68210)}\n",
      "Scores as floats: {'Bernie': 4.3492742999560186, 'Biden': 4.347588330156868, 'Warren': 4.353174021404486, 'Yang': 4.3499633484826274}\n",
      "Winner(s): {'Warren'}\n"
     ]
    }
   ],
   "source": [
    "election(profile, weights=[4.5, 4.4, 4.3, 4.2])"
   ]
  },
  {
   "cell_type": "code",
   "execution_count": 447,
   "metadata": {},
   "outputs": [],
   "source": [
    "condorcet = RuleCondorcet(profile)"
   ]
  },
  {
   "cell_type": "code",
   "execution_count": 455,
   "metadata": {},
   "outputs": [
    {
     "data": {
      "text/plain": [
       "[{'Warren'}, {'Bernie', 'Biden', 'Yang'}]"
      ]
     },
     "execution_count": 455,
     "metadata": {},
     "output_type": "execute_result"
    }
   ],
   "source": [
    "condorcet.order_"
   ]
  },
  {
   "cell_type": "code",
   "execution_count": null,
   "metadata": {},
   "outputs": [],
   "source": []
  }
 ],
 "metadata": {
  "kernelspec": {
   "display_name": "Python 3",
   "language": "python",
   "name": "python3"
  },
  "language_info": {
   "codemirror_mode": {
    "name": "ipython",
    "version": 3
   },
   "file_extension": ".py",
   "mimetype": "text/x-python",
   "name": "python",
   "nbconvert_exporter": "python",
   "pygments_lexer": "ipython3",
   "version": "3.6.8"
  }
 },
 "nbformat": 4,
 "nbformat_minor": 4
}
