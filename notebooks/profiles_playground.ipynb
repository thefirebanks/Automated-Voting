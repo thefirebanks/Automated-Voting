{
 "cells": [
  {
   "cell_type": "markdown",
   "metadata": {},
   "source": [
    "## Profiles code"
   ]
  },
  {
   "cell_type": "code",
   "execution_count": 5,
   "metadata": {
    "jupyter": {
     "source_hidden": true
    }
   },
   "outputs": [
    {
     "ename": "ModuleNotFoundError",
     "evalue": "No module named 'tensorflow'",
     "output_type": "error",
     "traceback": [
      "\u001b[0;31m---------------------------------------------------------------------------\u001b[0m",
      "\u001b[0;31mModuleNotFoundError\u001b[0m                       Traceback (most recent call last)",
      "\u001b[0;32m<ipython-input-5-510fbb844f1a>\u001b[0m in \u001b[0;36m<module>\u001b[0;34m\u001b[0m\n\u001b[0;32m----> 1\u001b[0;31m \u001b[0;32mfrom\u001b[0m \u001b[0mtensorflow\u001b[0m\u001b[0;34m.\u001b[0m\u001b[0mkeras\u001b[0m \u001b[0;32mimport\u001b[0m \u001b[0mModel\u001b[0m\u001b[0;34m\u001b[0m\u001b[0;34m\u001b[0m\u001b[0m\n\u001b[0m\u001b[1;32m      2\u001b[0m \u001b[0;32mfrom\u001b[0m \u001b[0mtensorflow\u001b[0m\u001b[0;34m.\u001b[0m\u001b[0mkeras\u001b[0m\u001b[0;34m.\u001b[0m\u001b[0mlayers\u001b[0m \u001b[0;32mimport\u001b[0m \u001b[0mDense\u001b[0m\u001b[0;34m\u001b[0m\u001b[0;34m\u001b[0m\u001b[0m\n\u001b[1;32m      3\u001b[0m \u001b[0;32mfrom\u001b[0m \u001b[0mtensorflow\u001b[0m\u001b[0;34m.\u001b[0m\u001b[0mkeras\u001b[0m\u001b[0;34m.\u001b[0m\u001b[0moptimizers\u001b[0m \u001b[0;32mimport\u001b[0m \u001b[0mAdam\u001b[0m\u001b[0;34m,\u001b[0m \u001b[0mSGD\u001b[0m\u001b[0;34m\u001b[0m\u001b[0;34m\u001b[0m\u001b[0m\n\u001b[1;32m      4\u001b[0m \u001b[0;31m# from tensorflow.keras.utils import plot_model\u001b[0m\u001b[0;34m\u001b[0m\u001b[0;34m\u001b[0m\u001b[0;34m\u001b[0m\u001b[0m\n\u001b[1;32m      5\u001b[0m \u001b[0;31m# from tensorflow.keras.models import load_model\u001b[0m\u001b[0;34m\u001b[0m\u001b[0;34m\u001b[0m\u001b[0;34m\u001b[0m\u001b[0m\n",
      "\u001b[0;31mModuleNotFoundError\u001b[0m: No module named 'tensorflow'"
     ]
    }
   ],
   "source": [
    "from tensorflow.keras import Model\n",
    "from tensorflow.keras.layers import Dense\n",
    "from tensorflow.keras.optimizers import Adam, SGD\n",
    "# from tensorflow.keras.utils import plot_model\n",
    "# from tensorflow.keras.models import load_model\n",
    "from tensorflow.keras.losses import CategoricalCrossentropy\n",
    "from tensorflow import GradientTape\n",
    "from tensorflow import convert_to_tensor\n",
    "import tensorflow.keras.backend as kb\n",
    "\n",
    "import numpy as np\n",
    "import pandas as pd\n",
    "import svvamp as sv\n",
    "from whalrus.profile.Profile import Profile\n",
    "from whalrus.rule.RuleCondorcet import RuleCondorcet\n",
    "\n",
    "class AVProfile(Profile):\n",
    "    def __init__(self, n_voters, origin=\"distribution\", params=\"spheroid\", candidates=None):\n",
    "\n",
    "        # Make sure we have the right input\n",
    "        if origin == \"distribution\" and candidates is None:\n",
    "            raise Exception(\"Candidates shouldn't be empty if we are creating a profile from distribution!\")\n",
    "        elif origin == \"data\" and params == \"spheroid\":\n",
    "            raise Exception(\"Params should include csv file name, such as sample_data_profile.csv!\")\n",
    "\n",
    "        # Generate the ballots\n",
    "        if origin == \"distribution\":\n",
    "\n",
    "            # Create a population object\n",
    "            if params == \"cubic\":\n",
    "                pop = sv.PopulationCubicUniform(V=n_voters, C=len(candidates))\n",
    "            elif params == \"euclidean\":\n",
    "                pop = sv.PopulationEuclideanBox(V=n_voters, C=len(candidates), box_dimensions=[1])\n",
    "            elif params == \"gaussian\":\n",
    "                pop = sv.PopulationGaussianWell(V=n_voters, C=len(candidates), sigma=[1], shift=[10])\n",
    "            elif params == \"ladder\":\n",
    "                pop = sv.PopulationLadder(V=n_voters, C=len(candidates), n_rungs=5)\n",
    "            elif params == \"VMFHypercircle\":\n",
    "                pop = sv.PopulationVMFHypercircle(V=n_voters, C=len(candidates), vmf_concentration=[10],\n",
    "                                                  vmf_pole=np.random.random_integers(0, len(candidates),\n",
    "                                                                                     len(candidates)))\n",
    "            elif params == \"VMFHypersphere\":\n",
    "                pop = sv.PopulationVMFHypersphere(V=n_voters, C=len(candidates),\n",
    "                                                  vmf_concentration=[50, 50],\n",
    "                                                  vmf_probability=None,\n",
    "                                                  vmf_pole=[\n",
    "                                                      np.random.random_integers(0, len(candidates), len(candidates)),\n",
    "                                                      np.random.random_integers(0, len(candidates), len(candidates))],\n",
    "                                                  stretching=1)\n",
    "            else:\n",
    "                pop = sv.PopulationSpheroid(V=n_voters, C=len(candidates))\n",
    "\n",
    "            self._preferences = pop.preferences_rk\n",
    "            pop.labels_candidates = self._labels_candidates = candidates\n",
    "\n",
    "        elif origin == \"data\":  # params = filename\n",
    "            preferences = np.genfromtxt(params, delimiter=',', dtype=str)\n",
    "            self._labels_candidates = preferences[0, :]\n",
    "            self._preferences = preferences[1:, :].astype(int)\n",
    "        else:\n",
    "            raise Exception(\"Insert either distribution or data as the parameter origin!\")\n",
    "\n",
    "        # Basic properties\n",
    "        self._n_candidates = len(self._labels_candidates)\n",
    "        self._n_voters = n_voters\n",
    "\n",
    "        # Create a dataframe representation of the profile so we can print it out\n",
    "        self._rank_matrix = self.to_count_matrix()\n",
    "        self._tournament_matrix = self.to_tournament_matrix()\n",
    "        self._df_rank = self.to_count_dataframe()\n",
    "\n",
    "        # Create a labeled version of the ranking from the population\n",
    "        self._profile_dicts, self._labeled_ranks = self.label_profile()\n",
    "\n",
    "        # Create a dataframe of ballots and how many people voted for them\n",
    "        self._ballot_df = self.to_ballot_dataframe()\n",
    "\n",
    "        # Create a profile object - automatically creates ordered ballots\n",
    "        super().__init__(self._labeled_ranks)\n",
    "\n",
    "        # Create one-hot vectors of established candidates (Condorcet, Majority, etc.)\n",
    "        self._condorcet_w, self._condorcet_w_vector = self.get_condorcet()\n",
    "        self._majority_w, self._majority_w_vector = self.get_majority()\n",
    "        self._plurality_w, self._plurality_w_vector = self.get_plurality()\n",
    "\n",
    "        # Create a sample of simulated profiles for IM\n",
    "        self._IM_rank_matrices = self.generate_IM_profiles(10)\n",
    "\n",
    "        # Create a sample of simulated profiles for IIA\n",
    "        self._IIA_rank_matrices = self.generate_IIA_profiles(10)\n",
    "\n",
    "    # Basic properties\n",
    "    @property\n",
    "    def n_candidates(self):\n",
    "        return self._n_candidates\n",
    "\n",
    "    @property\n",
    "    def n_voters(self):\n",
    "        return self._n_voters\n",
    "\n",
    "    @property\n",
    "    def candidates(self):\n",
    "        return self._labels_candidates\n",
    "\n",
    "    @property\n",
    "    def preferences(self):\n",
    "        return self._preferences\n",
    "\n",
    "    # Ballots and Profile matrix/dataframe formats\n",
    "    @property\n",
    "    def rank_matrix(self):\n",
    "        return self._rank_matrix.T\n",
    "\n",
    "    @property\n",
    "    def flat_rank_matrix(self, simulated=False):\n",
    "        \"\"\"\n",
    "            Input matrix for neural network\n",
    "            - Flatten dataset for network input layer purposes\n",
    "            - Reshape to (n_features, 1) for tensor input, then transpose to make it n_features columns,\n",
    "               where n_features = n_candidates**2 \"\"\"\n",
    "        if not simulated:\n",
    "            return self.rank_matrix.flatten('F').reshape(self.n_candidates*self.n_candidates, 1).T\n",
    "        else:\n",
    "            # TODO: Add the IIA matrix here\n",
    "            return np.array([matrix.flatten('F').reshape(self.n_candidates*self.n_candidates, 1).T for matrix in self.IM_rank_matrices])\n",
    "\n",
    "    @property\n",
    "    def tournament_matrix(self):\n",
    "        return self._tournament_matrix\n",
    "\n",
    "    @property\n",
    "    def rank_df(self):\n",
    "        return self._df_rank.T\n",
    "\n",
    "    # Ballot descriptors\n",
    "    @property\n",
    "    def labeled_ballots(self):\n",
    "        return self._labeled_ranks\n",
    "\n",
    "    @property\n",
    "    def ranked_ballots(self):\n",
    "        return self._profile_dicts\n",
    "\n",
    "    @property\n",
    "    def ballot_df(self):\n",
    "        return self._ballot_df\n",
    "\n",
    "    # Profile special candidates (strings and vectors\n",
    "    @property\n",
    "    def condorcet_w(self):\n",
    "        return self._condorcet_w\n",
    "\n",
    "    @property\n",
    "    def condorcet_w_vector(self):\n",
    "        return self._condorcet_w_vector\n",
    "\n",
    "    @property\n",
    "    def majority_w(self):\n",
    "        return self._majority_w\n",
    "\n",
    "    @property\n",
    "    def majority_w_vector(self):\n",
    "        return self._majority_w_vector\n",
    "\n",
    "    @property\n",
    "    def plurality_w(self):\n",
    "        return self._plurality_w\n",
    "\n",
    "    @property\n",
    "    def plurality_w_vector(self):\n",
    "        return self._plurality_w_vector\n",
    "\n",
    "    # Simulated profiles for IM\n",
    "    @property\n",
    "    def IM_rank_matrices(self):\n",
    "        return self._IM_rank_matrices\n",
    "\n",
    "    def get_condorcet(self) -> (str, np.array):\n",
    "        \"\"\" Check if a profile contains a condorcet winner and returns a one-hot vector representing them.\n",
    "            Returns:\n",
    "                - The name of the winner as a string, or \"No Condorcet Winner\" otherwise\n",
    "                - A numpy array of size n_candidates, where candidate i is 1 if they are a Condorcet winner,\n",
    "                and the rest are 0. If there is no Condorcet winner, then all elements are 0\n",
    "                 \"\"\"\n",
    "\n",
    "        condorcet = RuleCondorcet(self)\n",
    "\n",
    "        if len(condorcet.cowinners_) == 1:\n",
    "            winner = next(iter(condorcet.cowinners_))\n",
    "            winner_idx = self.candidates.index(winner)\n",
    "\n",
    "            one_hot = np.zeros(shape=(self.n_candidates,))\n",
    "            one_hot[winner_idx] = 1\n",
    "\n",
    "            return winner, one_hot\n",
    "\n",
    "        return \"No Condorcet Winner\", np.zeros(shape=(self.n_candidates,))\n",
    "\n",
    "    def get_majority(self) -> (str, np.array):\n",
    "        \"\"\" Check if a profile contains a majority winner and returns a one-hot vector representing them.\n",
    "            Returns:\n",
    "                - The name of the winner as a string, or \"No Majority Winner\" otherwise\n",
    "                - A numpy array of size n_candidates, where candidate i is 1 if they are a majority winner,\n",
    "                and the rest are 0. If there is no majority winner, then all elements are 0 \"\"\"\n",
    "\n",
    "        # Get the first row as those are the counts for how many times a candidate was ranked first\n",
    "        first_candidates = self.rank_matrix[0]\n",
    "\n",
    "        for candidate_idx, candidate_votes in enumerate(first_candidates):\n",
    "            if candidate_votes >= 0.5 * self.n_voters:\n",
    "                one_hot = np.zeros(shape=(self.n_candidates,))\n",
    "                one_hot[candidate_idx] = 1\n",
    "                return self.candidates[candidate_idx], one_hot\n",
    "\n",
    "        return \"No Majority Winner\", np.zeros(shape=(self.n_candidates,))\n",
    "\n",
    "    # TODO: Instead of returning one of the candidates with equal probability,\n",
    "    #  return the one with the most second choice votes!!!!!! OR most votes recursively\n",
    "    def get_plurality(self) -> (str, np.array):\n",
    "        \"\"\" Returns the plurality winner of a given profile. If there are ties, it randomly returns one of the candidates\n",
    "            with equal probability\n",
    "\n",
    "            Returns:\n",
    "                - The name of the winner\n",
    "                - A numpy array of size n_candidates, where candidate i is 1 if they are a majority winner,\n",
    "                and the rest are 0 \"\"\"\n",
    "\n",
    "        # Get the plurality winner from the first row of the rank matrix, break ties randomly\n",
    "        winner_idx = np.random.choice(np.flatnonzero(self.rank_matrix[0] == self.rank_matrix[0].max()))\n",
    "        winner = self.candidates[winner_idx]\n",
    "\n",
    "        # Get the one-hot vector\n",
    "        one_hot = np.zeros(shape=(self.n_candidates,))\n",
    "        one_hot[winner_idx] = 1\n",
    "\n",
    "        return winner, one_hot\n",
    "\n",
    "    def label_profile(self) -> (list, list):\n",
    "        \"\"\" Convert profile to a list of {candidate: rank} per voter\n",
    "            Then return a list of labeled candidates in order of rank \"\"\"\n",
    "\n",
    "        ordered_prof = []\n",
    "\n",
    "        for ballot in self._preferences:\n",
    "            ordered_ballot = {}\n",
    "            for candidate, rank in zip(self._labels_candidates, ballot):\n",
    "                ordered_ballot[candidate] = rank\n",
    "\n",
    "            ordered_prof.append(ordered_ballot)\n",
    "\n",
    "        sorted_dicts = [dict(sorted(profile.items(), key=lambda kv: kv[1])) for profile in ordered_prof]\n",
    "        sorted_dict_keys = [list(d.keys()) for d in sorted_dicts]\n",
    "\n",
    "        return sorted_dicts, sorted_dict_keys\n",
    "\n",
    "    def to_tournament_matrix(self) -> np.array:\n",
    "        return np.array([])\n",
    "\n",
    "    def to_count_matrix(self) -> np.array:\n",
    "        \"\"\" Create a matrix representation of the profile,\n",
    "        where matrix[c][r] represent the frequency of candidate c in rank r \"\"\"\n",
    "\n",
    "        matrix_rank = [[0] * len(self._preferences[0]) for _ in self._preferences[0]]\n",
    "\n",
    "        for ballot in self._preferences:\n",
    "            for j, rank in enumerate(ballot):\n",
    "                matrix_rank[j][rank] += 1\n",
    "\n",
    "        return np.array(matrix_rank)\n",
    "\n",
    "    def to_count_dataframe(self) -> pd.DataFrame:\n",
    "        \"\"\" Creates a dataframe representation of the profile from the matrix representation \"\"\"\n",
    "        data_dict = dict()\n",
    "\n",
    "        # Create dictionary for dataframe\n",
    "        # data_dict[\"Candidates\"] = self._labels_candidates\n",
    "        for i in range(len(self._rank_matrix)):\n",
    "            data_dict[f\"Rank {i + 1}\"] = self._rank_matrix[:, i]\n",
    "\n",
    "        df = pd.DataFrame(data_dict, index=self._labels_candidates)\n",
    "\n",
    "        return df\n",
    "\n",
    "    def to_ballot_dataframe(self) -> pd.DataFrame:\n",
    "        \"\"\" Creates a dataframe where the columns represent the ballots and the top row represents\n",
    "        the number of candidates that voted for a particular candiate \"\"\"\n",
    "\n",
    "        # {Ballot: # of people that have it}\n",
    "        ballot_counts = dict()\n",
    "        for ballot in self._preferences:\n",
    "            ballot_str = str(ballot)\n",
    "            if ballot_str in ballot_counts:\n",
    "                ballot_counts[ballot_str] += 1\n",
    "            else:\n",
    "                ballot_counts[ballot_str] = 1\n",
    "\n",
    "        # Now, build the dataframe\n",
    "        header = []\n",
    "        rows = []\n",
    "\n",
    "        # Get the candidates as their index\n",
    "        for ballot, count in ballot_counts.items():\n",
    "            # The count will be the header\n",
    "            header.append(count)\n",
    "\n",
    "            # Turn back into a list so the candidates occupy different cells\n",
    "            ballot_list = ballot.replace('[', '').replace(']', '').split()\n",
    "\n",
    "            # Transform numbers into names\n",
    "            rows.append([self.candidates[int(index)] for index in ballot_list])\n",
    "\n",
    "        # We will transpose the rows to format ballots properly\n",
    "        columns = np.array(rows).T\n",
    "        df = pd.DataFrame(columns, columns=header)\n",
    "\n",
    "        return df\n",
    "\n",
    "    def generate_IM_profiles(self, count) -> np.array:\n",
    "        return np.array\n",
    "\n",
    "    def generate_IIA_profiles(self, count) -> np.array:\n",
    "        return np.array"
   ]
  },
  {
   "cell_type": "markdown",
   "metadata": {},
   "source": [
    "### Individual Manipulation simulations"
   ]
  },
  {
   "cell_type": "code",
   "execution_count": 1,
   "metadata": {},
   "outputs": [
    {
     "ename": "NameError",
     "evalue": "name 'AVProfile' is not defined",
     "output_type": "error",
     "traceback": [
      "\u001b[0;31m---------------------------------------------------------------------------\u001b[0m",
      "\u001b[0;31mNameError\u001b[0m                                 Traceback (most recent call last)",
      "\u001b[0;32m<ipython-input-1-74d891d0418e>\u001b[0m in \u001b[0;36m<module>\u001b[0;34m\u001b[0m\n\u001b[0;32m----> 1\u001b[0;31m profile = AVProfile(10, origin=\"distribution\",\n\u001b[0m\u001b[1;32m      2\u001b[0m                   params=\"spheroid\", candidates=[\"Adam\", \"Bert\", \"Chad\"])\n",
      "\u001b[0;31mNameError\u001b[0m: name 'AVProfile' is not defined"
     ]
    }
   ],
   "source": [
    "profile = AVProfile(10, origin=\"distribution\",\n",
    "                  params=\"spheroid\", candidates=[\"Adam\", \"Bert\", \"Chad\"])"
   ]
  },
  {
   "cell_type": "code",
   "execution_count": 2,
   "metadata": {},
   "outputs": [
    {
     "ename": "NameError",
     "evalue": "name 'profile' is not defined",
     "output_type": "error",
     "traceback": [
      "\u001b[0;31m---------------------------------------------------------------------------\u001b[0m",
      "\u001b[0;31mNameError\u001b[0m                                 Traceback (most recent call last)",
      "\u001b[0;32m<ipython-input-2-90cf12d9b0b7>\u001b[0m in \u001b[0;36m<module>\u001b[0;34m\u001b[0m\n\u001b[0;32m----> 1\u001b[0;31m \u001b[0mmatrix\u001b[0m \u001b[0;34m=\u001b[0m \u001b[0mprofile\u001b[0m\u001b[0;34m.\u001b[0m\u001b[0mrank_matrix\u001b[0m\u001b[0;34m\u001b[0m\u001b[0;34m\u001b[0m\u001b[0m\n\u001b[0m\u001b[1;32m      2\u001b[0m \u001b[0mprint\u001b[0m\u001b[0;34m(\u001b[0m\u001b[0mmatrix\u001b[0m\u001b[0;34m)\u001b[0m\u001b[0;34m\u001b[0m\u001b[0;34m\u001b[0m\u001b[0m\n",
      "\u001b[0;31mNameError\u001b[0m: name 'profile' is not defined"
     ]
    }
   ],
   "source": [
    "matrix = profile.rank_matrix\n",
    "print(matrix)"
   ]
  },
  {
   "cell_type": "code",
   "execution_count": 65,
   "metadata": {},
   "outputs": [
    {
     "data": {
      "text/plain": [
       "array([[1, 2, 0],\n",
       "       [0, 1, 2],\n",
       "       [0, 2, 1],\n",
       "       [2, 1, 0],\n",
       "       [1, 0, 2],\n",
       "       [0, 1, 2],\n",
       "       [2, 1, 0],\n",
       "       [0, 2, 1],\n",
       "       [1, 0, 2],\n",
       "       [0, 2, 1]])"
      ]
     },
     "execution_count": 65,
     "metadata": {},
     "output_type": "execute_result"
    }
   ],
   "source": [
    "profile.preferences"
   ]
  },
  {
   "cell_type": "code",
   "execution_count": 66,
   "metadata": {},
   "outputs": [
    {
     "data": {
      "text/plain": [
       "'Adam'"
      ]
     },
     "execution_count": 66,
     "metadata": {},
     "output_type": "execute_result"
    }
   ],
   "source": [
    "profile.condorcet_w"
   ]
  },
  {
   "cell_type": "code",
   "execution_count": 49,
   "metadata": {},
   "outputs": [
    {
     "data": {
      "text/html": [
       "<div>\n",
       "<style scoped>\n",
       "    .dataframe tbody tr th:only-of-type {\n",
       "        vertical-align: middle;\n",
       "    }\n",
       "\n",
       "    .dataframe tbody tr th {\n",
       "        vertical-align: top;\n",
       "    }\n",
       "\n",
       "    .dataframe thead th {\n",
       "        text-align: right;\n",
       "    }\n",
       "</style>\n",
       "<table border=\"1\" class=\"dataframe\">\n",
       "  <thead>\n",
       "    <tr style=\"text-align: right;\">\n",
       "      <th></th>\n",
       "      <th>3</th>\n",
       "      <th>3</th>\n",
       "      <th>2</th>\n",
       "      <th>1</th>\n",
       "      <th>1</th>\n",
       "    </tr>\n",
       "  </thead>\n",
       "  <tbody>\n",
       "    <tr>\n",
       "      <th>0</th>\n",
       "      <td>Adam</td>\n",
       "      <td>Chad</td>\n",
       "      <td>Adam</td>\n",
       "      <td>Chad</td>\n",
       "      <td>Bert</td>\n",
       "    </tr>\n",
       "    <tr>\n",
       "      <th>1</th>\n",
       "      <td>Chad</td>\n",
       "      <td>Adam</td>\n",
       "      <td>Bert</td>\n",
       "      <td>Bert</td>\n",
       "      <td>Adam</td>\n",
       "    </tr>\n",
       "    <tr>\n",
       "      <th>2</th>\n",
       "      <td>Bert</td>\n",
       "      <td>Bert</td>\n",
       "      <td>Chad</td>\n",
       "      <td>Adam</td>\n",
       "      <td>Chad</td>\n",
       "    </tr>\n",
       "  </tbody>\n",
       "</table>\n",
       "</div>"
      ],
      "text/plain": [
       "      3     3     2     1     1\n",
       "0  Adam  Chad  Adam  Chad  Bert\n",
       "1  Chad  Adam  Bert  Bert  Adam\n",
       "2  Bert  Bert  Chad  Adam  Chad"
      ]
     },
     "execution_count": 49,
     "metadata": {},
     "output_type": "execute_result"
    }
   ],
   "source": [
    "profile.ballot_df"
   ]
  },
  {
   "cell_type": "code",
   "execution_count": 58,
   "metadata": {},
   "outputs": [
    {
     "data": {
      "text/html": [
       "<div>\n",
       "<style scoped>\n",
       "    .dataframe tbody tr th:only-of-type {\n",
       "        vertical-align: middle;\n",
       "    }\n",
       "\n",
       "    .dataframe tbody tr th {\n",
       "        vertical-align: top;\n",
       "    }\n",
       "\n",
       "    .dataframe thead th {\n",
       "        text-align: right;\n",
       "    }\n",
       "</style>\n",
       "<table border=\"1\" class=\"dataframe\">\n",
       "  <thead>\n",
       "    <tr style=\"text-align: right;\">\n",
       "      <th></th>\n",
       "      <th>Adam</th>\n",
       "      <th>Bert</th>\n",
       "      <th>Chad</th>\n",
       "    </tr>\n",
       "  </thead>\n",
       "  <tbody>\n",
       "    <tr>\n",
       "      <th>Rank 1</th>\n",
       "      <td>3</td>\n",
       "      <td>4</td>\n",
       "      <td>3</td>\n",
       "    </tr>\n",
       "    <tr>\n",
       "      <th>Rank 2</th>\n",
       "      <td>1</td>\n",
       "      <td>3</td>\n",
       "      <td>6</td>\n",
       "    </tr>\n",
       "    <tr>\n",
       "      <th>Rank 3</th>\n",
       "      <td>6</td>\n",
       "      <td>3</td>\n",
       "      <td>1</td>\n",
       "    </tr>\n",
       "  </tbody>\n",
       "</table>\n",
       "</div>"
      ],
      "text/plain": [
       "        Adam  Bert  Chad\n",
       "Rank 1     3     4     3\n",
       "Rank 2     1     3     6\n",
       "Rank 3     6     3     1"
      ]
     },
     "execution_count": 58,
     "metadata": {},
     "output_type": "execute_result"
    }
   ],
   "source": [
    "profile.rank_df"
   ]
  },
  {
   "cell_type": "code",
   "execution_count": 59,
   "metadata": {},
   "outputs": [],
   "source": [
    "# Switch 1 person from Bert -> Chad -> Adam to Bert -> Adam -> Chad\n",
    "\n",
    "\n",
    "winner = 2 # Chad\n",
    "\n",
    "\n",
    "profile.rank_df.iloc[1, 0] += 1 # Add points to Bert\n",
    "profile.rank_df.iloc[2, 2] -= 1 # Take points from Chad"
   ]
  },
  {
   "cell_type": "code",
   "execution_count": 60,
   "metadata": {},
   "outputs": [
    {
     "data": {
      "text/html": [
       "<div>\n",
       "<style scoped>\n",
       "    .dataframe tbody tr th:only-of-type {\n",
       "        vertical-align: middle;\n",
       "    }\n",
       "\n",
       "    .dataframe tbody tr th {\n",
       "        vertical-align: top;\n",
       "    }\n",
       "\n",
       "    .dataframe thead th {\n",
       "        text-align: right;\n",
       "    }\n",
       "</style>\n",
       "<table border=\"1\" class=\"dataframe\">\n",
       "  <thead>\n",
       "    <tr style=\"text-align: right;\">\n",
       "      <th></th>\n",
       "      <th>Adam</th>\n",
       "      <th>Bert</th>\n",
       "      <th>Chad</th>\n",
       "    </tr>\n",
       "  </thead>\n",
       "  <tbody>\n",
       "    <tr>\n",
       "      <th>Rank 1</th>\n",
       "      <td>3</td>\n",
       "      <td>4</td>\n",
       "      <td>3</td>\n",
       "    </tr>\n",
       "    <tr>\n",
       "      <th>Rank 2</th>\n",
       "      <td>2</td>\n",
       "      <td>3</td>\n",
       "      <td>6</td>\n",
       "    </tr>\n",
       "    <tr>\n",
       "      <th>Rank 3</th>\n",
       "      <td>6</td>\n",
       "      <td>3</td>\n",
       "      <td>0</td>\n",
       "    </tr>\n",
       "  </tbody>\n",
       "</table>\n",
       "</div>"
      ],
      "text/plain": [
       "        Adam  Bert  Chad\n",
       "Rank 1     3     4     3\n",
       "Rank 2     2     3     6\n",
       "Rank 3     6     3     0"
      ]
     },
     "execution_count": 60,
     "metadata": {},
     "output_type": "execute_result"
    }
   ],
   "source": [
    "profile.rank_df"
   ]
  },
  {
   "cell_type": "code",
   "execution_count": 62,
   "metadata": {},
   "outputs": [
    {
     "data": {
      "text/plain": [
       "('Chad', array([0., 0., 1.]))"
      ]
     },
     "execution_count": 62,
     "metadata": {},
     "output_type": "execute_result"
    }
   ],
   "source": [
    "profile.get_condorcet()"
   ]
  },
  {
   "cell_type": "code",
   "execution_count": 11,
   "metadata": {},
   "outputs": [],
   "source": [
    "import numpy as np"
   ]
  },
  {
   "cell_type": "code",
   "execution_count": 22,
   "metadata": {},
   "outputs": [],
   "source": [
    "n_candidates = 3\n",
    "winner_idx = 2\n",
    "winner_rank = 1\n",
    "\n",
    "wanted_idx = 1\n"
   ]
  },
  {
   "cell_type": "code",
   "execution_count": 30,
   "metadata": {},
   "outputs": [
    {
     "name": "stdout",
     "output_type": "stream",
     "text": [
      "0\n",
      "2\n",
      "1\n"
     ]
    }
   ],
   "source": [
    "for i in range(n_candidates):\n",
    "    if i != winner_idx and i != wanted_idx:\n",
    "        print(i)\n",
    "        print(winner_idx)\n",
    "        print(wanted_idx)"
   ]
  },
  {
   "cell_type": "code",
   "execution_count": 23,
   "metadata": {},
   "outputs": [],
   "source": [
    "test_profile = np.array([[3, 4, 3], [1, 3, 6], [6, 3, 1]])"
   ]
  },
  {
   "cell_type": "code",
   "execution_count": 31,
   "metadata": {},
   "outputs": [
    {
     "data": {
      "text/plain": [
       "[0]"
      ]
     },
     "execution_count": 31,
     "metadata": {},
     "output_type": "execute_result"
    }
   ],
   "source": [
    "leftover_candidates = [i for i in range(n_candidates) if i != winner_idx and i != wanted_idx]\n",
    "leftover_candidates"
   ]
  },
  {
   "cell_type": "code",
   "execution_count": 210,
   "metadata": {},
   "outputs": [],
   "source": [
    "def individual_manipulation(wanted_idx, winner_idx, rank_matrix, option=1):\n",
    "    \"\"\" Given a winner candidate, and a wanted candidate != winner candidate for a particular voter, \n",
    "        return an alternative rank_matrix reflecting a non-truthful ballot from that voter \n",
    "        \n",
    "        @param: wanted_candidate = int, the index of a non-winner preferred candidate\n",
    "        @param: winner_candidate = int, the index of the winner candidate for a particular rank_matrix \n",
    "        @param: rank_matrix = 2D np.array representing the original preference profile \n",
    "        \n",
    "        @returns: alt_rank_matrix = 2D np.array representing an alternative rank_matrix \"\"\"\n",
    "        \n",
    "    # Deep copy the rank matrix to avoid modifying the original one\n",
    "    new_rank_matrix = rank_matrix.copy()\n",
    "    \n",
    "    # Get a list of possible candidates whose score we can increase, that are not the winner or the wanted candidate\n",
    "    possible_candidates = [i for i in range(n_candidates) if i != winner_idx and i != wanted_idx]\n",
    "    \n",
    "    # Get possible ranks to increase/decrease \n",
    "    possible_ranks = [i for i in range(1, n_candidates)]\n",
    "    \n",
    "    if option == 1:\n",
    "        # Possible alteration 1: For n_candidates >= 3. \n",
    "            # Swap the position of a non-winner and non-wanted candidate with the winner candidate on a given ballot\n",
    "            # Say we have an honest ballot Bert -> Chad -> Adam\n",
    "            # We want to transform it into Bert -> Adam -> Chad\n",
    "\n",
    "        # Choose a random candidate from the leftover candidates\n",
    "        candidate_up = np.random.choice(possible_candidates)\n",
    "            \n",
    "        # Choose a random rank to decrease for the winner that is not the first one\n",
    "        winner_rank = np.random.choice(possible_ranks)\n",
    "\n",
    "        # Choose a random rank to increase for candidate_up, (does this have to be less than the winner rank?) - also not the first one, but it could be the first one as well? Although that would decrease the score from their true wanted candidate \n",
    "        candidate_up_rank = np.random.choice(possible_ranks)\n",
    "        \n",
    "        # Perform the operations\n",
    "        new_rank_matrix[candidate_up_rank, candidate_up] -= 1\n",
    "        new_rank_matrix[winner_rank, winner_idx] -= 1\n",
    "\n",
    "        new_rank_matrix[candidate_up_rank, winner_idx] += 1\n",
    "        new_rank_matrix[winner_rank, candidate_up] += 1\n",
    "    \n",
    "    elif option == 2:\n",
    "        # Possible alteration 2:  \n",
    "            # We could include the winner as part of the leftover candidates maybe? \n",
    "            # We can also include another candidate that is not the winner to decrease its score\n",
    "        \n",
    "        # Choose a random non-winner, non-wanted candidate to decrease the score from\n",
    "        candidate_down = np.random.choice(possible_candidates)\n",
    "        \n",
    "        # Add the winner to be included in the list of candidates whose score we will increase\n",
    "        possible_candidates.append(winner_idx)\n",
    "        \n",
    "        # Choose a candidate whose score we will increase\n",
    "        candidate_up = np.random.choice(possible_candidates)\n",
    "        \n",
    "        # TODO: DEAL WITH ZEROS IN THE MATRIX \n",
    "        # Get the random ranks\n",
    "        candidate_down_rank = np.random.choice(possible_ranks)\n",
    "        candidate_up_rank = np.random.choice(possible_ranks)\n",
    "        \n",
    "        print(rank_matrix[candidate_up_rank, candidate_up])\n",
    "        print(rank_matrix[candidate_down_rank, candidate_down])\n",
    "        print(rank_matrix[candidate_up_rank, candidate_down])\n",
    "        print(rank_matrix[candidate_down_rank, candidate_up])\n",
    "        \n",
    "        # Perform operations\n",
    "        new_rank_matrix[candidate_up_rank, candidate_up] -= 1\n",
    "        new_rank_matrix[candidate_down_rank, candidate_down] -= 1\n",
    "        \n",
    "        new_rank_matrix[candidate_up_rank, candidate_down] += 1\n",
    "        new_rank_matrix[candidate_down_rank, candidate_up] += 1\n",
    "        \n",
    "         \n",
    "#     elif option == 3:\n",
    "        # Possible alteration 3:  \n",
    "            # Any option from before BUT now, rank 1 is also in play\n",
    "        \n",
    "        \n",
    "    return new_rank_matrix\n",
    "    "
   ]
  },
  {
   "cell_type": "code",
   "execution_count": 208,
   "metadata": {},
   "outputs": [
    {
     "data": {
      "text/plain": [
       "array([[7, 5, 6, 2],\n",
       "       [8, 3, 4, 5],\n",
       "       [2, 6, 4, 8],\n",
       "       [3, 6, 6, 5]])"
      ]
     },
     "execution_count": 208,
     "metadata": {},
     "output_type": "execute_result"
    }
   ],
   "source": [
    "big_profile"
   ]
  },
  {
   "cell_type": "code",
   "execution_count": 223,
   "metadata": {},
   "outputs": [
    {
     "data": {
      "text/plain": [
       "array([[7, 5, 6, 2],\n",
       "       [7, 3, 5, 5],\n",
       "       [3, 6, 3, 8],\n",
       "       [3, 6, 6, 5]])"
      ]
     },
     "execution_count": 223,
     "metadata": {},
     "output_type": "execute_result"
    }
   ],
   "source": [
    "np.random.seed(np.random.choice(range(1000000)))\n",
    "individual_manipulation(1, 2, big_profile, option=1)"
   ]
  },
  {
   "cell_type": "code",
   "execution_count": null,
   "metadata": {},
   "outputs": [],
   "source": [
    "# np.array([0, 1, 2, 3])[:2] np.array([0, 1, 2, 3])[3:]"
   ]
  },
  {
   "cell_type": "code",
   "execution_count": 68,
   "metadata": {},
   "outputs": [
    {
     "data": {
      "text/plain": [
       "[0, 1, 3, 4]"
      ]
     },
     "execution_count": 68,
     "metadata": {},
     "output_type": "execute_result"
    }
   ],
   "source": [
    "[0, 1, 2, 3, 4][:2] + [0, 1, 2, 3, 4][3:]"
   ]
  },
  {
   "cell_type": "code",
   "execution_count": 206,
   "metadata": {},
   "outputs": [],
   "source": [
    "big_profile = np.array([[7, 5, 6, 2], [8, 3, 4, 5], [2, 6, 4, 8], [3, 6, 6, 5]])"
   ]
  },
  {
   "cell_type": "code",
   "execution_count": 207,
   "metadata": {},
   "outputs": [
    {
     "data": {
      "text/plain": [
       "array([[7, 5, 6, 2],\n",
       "       [8, 3, 4, 5],\n",
       "       [2, 6, 4, 8],\n",
       "       [3, 6, 6, 5]])"
      ]
     },
     "execution_count": 207,
     "metadata": {},
     "output_type": "execute_result"
    }
   ],
   "source": [
    "big_profile"
   ]
  },
  {
   "cell_type": "code",
   "execution_count": 131,
   "metadata": {},
   "outputs": [
    {
     "name": "stdout",
     "output_type": "stream",
     "text": [
      "8 3\n",
      "Bro 1\n",
      "0 6\n"
     ]
    }
   ],
   "source": [
    "winner_idx = 1\n",
    "wanted_idx = 0\n",
    "possible_candidates = [i for i in range(n_candidates) if i != winner_idx and i != wanted_idx]\n",
    "candidate_up = np.random.choice(possible_candidates)\n",
    "\n",
    "for i in range(1, n_candidates):\n",
    "    print(big_profile[i, candidate_up], big_profile[i, winner_idx])\n",
    "    if big_profile[i, candidate_up] != 0 and big_profile[i, winner_idx] != 0:\n",
    "        print(\"Bro\", i)"
   ]
  },
  {
   "cell_type": "code",
   "execution_count": null,
   "metadata": {},
   "outputs": [],
   "source": []
  }
 ],
 "metadata": {
  "kernelspec": {
   "display_name": "Python 3",
   "language": "python",
   "name": "python3"
  },
  "language_info": {
   "codemirror_mode": {
    "name": "ipython",
    "version": 3
   },
   "file_extension": ".py",
   "mimetype": "text/x-python",
   "name": "python",
   "nbconvert_exporter": "python",
   "pygments_lexer": "ipython3",
   "version": "3.7.3"
  }
 },
 "nbformat": 4,
 "nbformat_minor": 4
}
