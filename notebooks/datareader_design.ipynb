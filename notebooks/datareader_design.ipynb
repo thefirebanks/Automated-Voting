{
 "cells": [
  {
   "cell_type": "code",
   "execution_count": 2,
   "metadata": {},
   "outputs": [],
   "source": [
    "import pandas as pd\n",
    "import numpy as np\n",
    "import svvamp as sv\n",
    "from whalrus.profile.Profile import Profile"
   ]
  },
  {
   "cell_type": "markdown",
   "metadata": {},
   "source": [
    "### File format for files: .csv\n",
    "    \n",
    "    Idea: Rows represent rankings, columns represent candidates \n",
    "    \n",
    "             Candidate_1 Candidate_2 Candidate_3\n",
    "    Voter_1  0,          2,           1\n",
    "    Voter_2  0,          1,           2\n",
    "    Voter_3  2,          0,           1 \n",
    "    \n",
    "    We read in this type of file and process it as a whalrus.Profile\n"
   ]
  },
  {
   "cell_type": "code",
   "execution_count": 17,
   "metadata": {},
   "outputs": [
    {
     "data": {
      "text/plain": [
       "array([[0, 1, 2],\n",
       "       [1, 0, 2],\n",
       "       [1, 0, 2],\n",
       "       [1, 2, 0]])"
      ]
     },
     "execution_count": 17,
     "metadata": {},
     "output_type": "execute_result"
    }
   ],
   "source": [
    "pop = sv.PopulationSpheroid(V=4, C=3)\n",
    "pop.preferences_rk"
   ]
  },
  {
   "cell_type": "code",
   "execution_count": 26,
   "metadata": {},
   "outputs": [
    {
     "data": {
      "text/plain": [
       "array([['c1', 'c2', 'c3'],\n",
       "       ['0', '2', '1'],\n",
       "       ['2', '1', '0'],\n",
       "       ['1', '0', '2'],\n",
       "       ['0', '1', '2']], dtype='<U2')"
      ]
     },
     "execution_count": 26,
     "metadata": {},
     "output_type": "execute_result"
    }
   ],
   "source": [
    "prefs = np.genfromtxt(\"sample_data_profile.csv\", delimiter=',', dtype=str)\n",
    "prefs"
   ]
  },
  {
   "cell_type": "code",
   "execution_count": 27,
   "metadata": {},
   "outputs": [
    {
     "data": {
      "text/plain": [
       "(array(['c1', 'c2', 'c3'], dtype='<U2'), array([[0, 2, 1],\n",
       "        [2, 1, 0],\n",
       "        [1, 0, 2],\n",
       "        [0, 1, 2]]))"
      ]
     },
     "execution_count": 27,
     "metadata": {},
     "output_type": "execute_result"
    }
   ],
   "source": [
    "candidate_labels = prefs[0, :]\n",
    "prefs = prefs[1:, :].astype(int)\n",
    "candidate_labels, prefs"
   ]
  }
 ],
 "metadata": {
  "kernelspec": {
   "display_name": "Python 3",
   "language": "python",
   "name": "python3"
  },
  "language_info": {
   "codemirror_mode": {
    "name": "ipython",
    "version": 3
   },
   "file_extension": ".py",
   "mimetype": "text/x-python",
   "name": "python",
   "nbconvert_exporter": "python",
   "pygments_lexer": "ipython3",
   "version": "3.6.8"
  }
 },
 "nbformat": 4,
 "nbformat_minor": 4
}
